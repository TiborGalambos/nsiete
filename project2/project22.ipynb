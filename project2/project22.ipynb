{
 "cells": [
  {
   "cell_type": "code",
   "execution_count": 9,
   "metadata": {
    "collapsed": true
   },
   "outputs": [
    {
     "name": "stdout",
     "output_type": "stream",
     "text": [
      "cuda\n"
     ]
    }
   ],
   "source": [
    "import torch\n",
    "import torchvision\n",
    "import torchvision.transforms as transforms\n",
    "\n",
    "# Set device to use CUDA if available, otherwise use CPU\n",
    "device = torch.device('cuda' if torch.cuda.is_available() else 'cpu')\n",
    "print(device)"
   ]
  },
  {
   "cell_type": "code",
   "execution_count": 3,
   "outputs": [],
   "source": [
    "path = 'C:/Users/tibor/PycharmProjects/nsiete/nsiete/project2/data/animals/raw-img'\n",
    "path1 = 'D:/Users/Desktop/animals/raw-img'"
   ],
   "metadata": {
    "collapsed": false,
    "pycharm": {
     "name": "#%%\n"
    }
   }
  },
  {
   "cell_type": "markdown",
   "source": [
    "Printing all unique image sizes."
   ],
   "metadata": {
    "collapsed": false
   }
  },
  {
   "cell_type": "code",
   "execution_count": 438,
   "outputs": [
    {
     "name": "stdout",
     "output_type": "stream",
     "text": [
      "{(449, 640), (640, 320), (300, 270), (640, 329), (300, 279), (181, 300), (640, 576), (278, 251), (640, 347), (187, 240), (300, 108), (290, 225), (640, 356), (282, 221), (300, 117), (300, 126), (300, 135), (249, 300), (238, 300), (300, 144), (391, 640), (286, 218), (276, 183), (296, 250), (640, 450), (160, 240), (243, 256), (640, 459), (468, 640), (4074, 2716), (2848, 4272), (640, 468), (150, 223), (236, 226), (300, 229), (640, 477), (231, 269), (300, 238), (200, 300), (211, 300), (615, 640), (222, 300), (300, 247), (593, 640), (5184, 3456), (258, 241), (300, 256), (220, 147), (640, 315), (300, 265), (272, 194), (219, 160), (279, 300), (640, 571), (640, 342), (173, 300), (200, 165), (300, 112), (216, 289), (300, 121), (4256, 2832), (280, 292), (300, 130), (6720, 4480), (640, 436), (241, 300), (230, 300), (634, 640), (153, 187), (640, 445), (220, 277), (225, 203), (528, 640), (640, 454), (264, 194), (640, 463), (300, 224), (640, 472), (246, 253), (280, 166), (300, 233), (211, 295), (300, 242), (6016, 4000), (300, 251), (192, 300), (203, 300), (640, 301), (300, 260), (479, 640), (231, 300), (250, 250), (640, 557), (640, 328), (640, 566), (259, 237), (300, 107), (200, 169), (640, 593), (199, 213), (558, 640), (299, 300), (212, 143), (220, 245), (300, 125), (452, 640), (640, 422), (640, 431), (640, 440), (134, 178), (640, 449), (300, 210), (640, 458), (219, 285), (520, 640), (261, 300), (300, 219), (127, 300), (300, 228), (112, 168), (392, 640), (300, 237), (241, 160), (300, 246), (184, 300), (179, 194), (640, 314), (640, 323), (471, 640), (640, 561), (200, 155), (300, 102), (262, 237), (214, 300), (180, 195), (640, 588), (300, 111), (209, 240), (539, 640), (291, 300), (640, 417), (640, 426), (433, 640), (236, 184), (297, 200), (640, 435), (640, 444), (300, 205), (640, 453), (569, 640), (300, 214), (300, 223), (300, 232), (248, 194), (300, 241), (244, 300), (233, 300), (637, 640), (640, 547), (200, 141), (640, 565), (200, 150), (300, 97), (240, 195), (139, 152), (300, 106), (240, 204), (195, 300), (640, 403), (206, 300), (599, 640), (640, 412), (482, 640), (640, 421), (236, 179), (273, 228), (640, 430), (267, 194), (300, 191), (640, 439), (300, 200), (263, 300), (274, 300), (300, 209), (168, 300), (157, 300), (300, 218), (550, 640), (561, 640), (640, 277), (300, 227), (277, 225), (200, 289), (264, 264), (640, 295), (65, 64), (640, 533), (270, 195), (230, 168), (640, 542), (225, 300), (236, 300), (240, 172), (281, 222), (512, 640), (264, 300), (501, 640), (240, 181), (300, 92), (240, 190), (640, 398), (240, 208), (640, 407), (198, 300), (6000, 4000), (187, 300), (640, 416), (176, 300), (236, 165), (640, 425), (463, 640), (474, 640), (300, 186), (640, 434), (300, 195), (300, 204), (255, 300), (300, 213), (300, 222), (138, 300), (149, 300), (290, 150), (294, 300), (283, 300), (640, 519), (160, 300), (250, 203), (425, 640), (180, 135), (640, 299), (640, 537), (3560, 2582), (640, 546), (220, 198), (217, 300), (640, 555), (120, 120), (240, 176), (359, 640), (256, 300), (245, 300), (640, 384), (284, 219), (240, 194), (225, 154), (387, 640), (640, 393), (398, 640), (272, 272), (640, 402), (640, 640), (296, 211), (288, 207), (300, 172), (640, 420), (179, 300), (288, 216), (300, 181), (300, 190), (466, 640), (300, 199), (4147, 2765), (300, 208), (640, 505), (640, 523), (286, 300), (270, 194), (259, 194), (208, 210), (428, 640), (417, 640), (270, 203), (3256, 4884), (173, 270), (257, 242), (160, 160), (240, 180), (640, 370), (640, 379), (220, 220), (640, 388), (485, 640), (640, 397), (640, 406), (225, 164), (300, 167), (239, 300), (228, 300), (300, 176), (122, 300), (246, 205), (300, 185), (300, 194), (226, 156), (447, 640), (300, 203), (250, 184), (640, 500), (213, 293), (640, 509), (190, 300), (250, 202), (594, 640), (245, 245), (280, 212), (640, 527), (245, 254), (300, 288), (640, 536), (300, 297), (258, 300), (640, 365), (247, 300), (269, 300), (141, 300), (640, 383), (640, 392), (640, 630), (300, 153), (640, 401), (300, 162), (300, 171), (220, 300), (209, 300), (300, 180), (300, 189), (640, 486), (250, 179), (192, 256), (250, 188), (640, 504), (288, 300), (5518, 3679), (287, 246), (640, 513), (220, 156), (180, 120), (300, 274), (182, 300), (220, 165), (171, 300), (249, 179), (300, 283), (193, 220), (120, 96), (469, 640), (300, 292), (458, 640), (268, 232), (640, 351), (237, 263), (640, 360), (640, 369), (3577, 5365), (250, 300), (640, 378), (640, 616), (300, 139), (144, 300), (640, 387), (278, 300), (289, 300), (300, 148), (640, 634), (300, 157), (431, 640), (4608, 3072), (82, 96), (265, 190), (300, 166), (202, 152), (420, 640), (290, 274), (263, 257), (300, 175), (232, 269), (201, 300), (640, 481), (240, 300), (640, 490), (235, 194), (640, 499), (382, 640), (640, 508), (4272, 2848), (300, 269), (300, 278), (230, 201), (300, 287), (297, 300), (640, 346), (300, 296), (240, 156), (461, 640), (640, 355), (640, 602), (640, 373), (193, 300), (300, 134), (640, 382), (300, 143), (300, 152), (290, 269), (281, 300), (5472, 3648), (275, 217), (300, 161), (211, 223), (240, 259), (286, 217), (300, 170), (266, 177), (640, 467), (298, 209), (640, 476), (287, 218), (640, 485), (250, 187), (279, 223), (480, 640), (300, 255), (185, 179), (640, 494), (300, 264), (220, 155), (239, 168), (280, 206), (300, 273), (220, 164), (212, 300), (223, 300), (605, 640), (300, 282), (640, 341), (300, 291), (270, 250), (284, 194), (640, 359), (4000, 2667), (216, 288), (300, 120), (640, 597), (640, 368), (180, 213), (300, 129), (280, 300), (300, 138), (200, 200), (174, 300), (185, 300), (578, 640), (567, 640), (300, 147), (120, 180), (210, 244), (300, 156), (640, 462), (640, 471), (253, 300), (242, 300), (193, 160), (635, 640), (640, 480), (205, 260), (2482, 1655), (147, 300), (640, 489), (236, 247), (300, 250), (640, 498), (300, 259), (220, 150), (300, 268), (260, 195), (238, 195), (291, 210), (640, 327), (300, 277), (220, 168), (640, 336), (300, 286), (215, 300), (188, 194), (118, 120), (250, 267), (204, 300), (640, 345), (597, 640), (290, 223), (640, 354), (278, 249), (300, 115), (640, 363), (640, 601), (300, 124), (300, 133), (275, 198), (272, 300), (4928, 3264), (300, 142), (240, 240), (283, 220), (155, 300), (177, 300), (300, 151), (166, 300), (640, 448), (640, 457), (640, 466), (225, 224), (640, 475), (287, 217), (300, 236), (234, 300), (224, 277), (627, 640), (300, 245), (300, 254), (273, 300), (257, 194), (640, 313), (300, 263), (230, 177), (415, 640), (640, 322), (300, 272), (299, 208), (640, 331), (270, 231), (259, 240), (640, 578), (300, 101), (196, 300), (640, 349), (290, 218), (640, 587), (300, 110), (282, 214), (300, 119), (235, 300), (483, 640), (494, 640), (5554, 3703), (300, 128), (300, 137), (150, 180), (640, 443), (292, 300), (640, 452), (236, 210), (276, 194), (3861, 2574), (640, 470), (300, 231), (640, 479), (245, 206), (300, 240), (300, 249), (194, 240), (230, 172), (300, 258), (109, 300), (513, 640), (300, 267), (215, 290), (407, 640), (640, 335), (180, 180), (278, 248), (640, 344), (300, 105), (300, 114), (156, 240), (300, 123), (200, 185), (300, 132), (152, 108), (640, 429), (218, 300), (207, 300), (640, 438), (611, 640), (640, 447), (360, 640), (640, 456), (300, 217), (279, 194), (640, 465), (225, 223), (300, 226), (300, 235), (275, 300), (137, 119), (300, 244), (169, 300), (300, 253), (573, 640), (204, 267), (289, 216), (290, 181), (230, 185), (640, 559), (230, 194), (640, 330), (640, 577), (300, 100), (226, 300), (237, 300), (248, 300), (283, 178), (4288, 2287), (293, 213), (300, 118), (524, 640), (275, 183), (240, 216), (640, 415), (274, 227), (640, 424), (640, 433), (640, 442), (102, 111), (236, 200), (199, 300), (210, 300), (640, 451), (183, 194), (188, 300), (300, 212), (300, 221), (300, 230), (231, 270), (300, 239), (300, 248), (267, 300), (640, 545), (409, 640), (150, 300), (640, 316), (554, 640), (543, 640), (172, 300), (200, 139), (3264, 2448), (270, 216), (161, 300), (300, 86), (191, 179), (300, 95), (640, 581), (300, 104), (229, 300), (300, 113), (213, 194), (240, 211), (640, 410), (220, 251), (268, 300), (640, 419), (257, 300), (252, 194), (236, 177), (240, 229), (640, 428), (410, 640), (242, 257), (153, 179), (640, 437), (300, 198), (640, 446), (300, 207), (285, 218), (180, 300), (191, 300), (300, 216), (195, 163), (640, 275), (300, 225), (200, 287), (640, 284), (300, 234), (223, 279), (640, 549), (228, 205), (153, 300), (142, 300), (535, 640), (276, 300), (287, 300), (271, 194), (298, 300), (220, 201), (219, 147), (418, 640), (440, 640), (3456, 4608), (300, 99), (240, 206), (640, 396), (261, 238), (640, 405), (267, 178), (640, 414), (640, 423), (260, 300), (300, 184), (640, 432), (300, 193), (265, 235), (300, 202), (4896, 3264), (266, 200), (300, 211), (4512, 3000), (300, 220), (527, 640), (270, 179), (218, 150), (640, 526), (269, 232), (202, 300), (640, 553), (640, 562), (249, 250), (140, 105), (240, 192), (640, 391), (640, 400), (259, 300), (270, 300), (236, 158), (640, 409), (640, 418), (300, 179), (159, 240), (640, 427), (300, 188), (225, 194), (300, 197), (300, 206), (235, 198), (221, 300), (300, 215), (243, 300), (232, 300), (640, 512), (199, 132), (640, 521), (640, 530), (250, 223), (640, 539), (290, 179), (240, 160), (300, 300), (272, 229), (120, 104), (268, 240), (120, 113), (300, 71), (183, 300), (194, 300), (640, 377), (470, 640), (640, 386), (640, 395), (150, 150), (182, 182), (640, 404), (300, 165), (251, 300), (640, 413), (262, 300), (300, 174), (288, 218), (290, 300), (300, 183), (285, 194), (265, 216), (300, 192), (300, 201), (640, 507), (213, 300), (224, 300), (250, 200), (640, 516), (280, 210), (489, 640), (500, 640), (252, 300), (120, 90), (262, 192), (300, 295), (220, 186), (240, 164), (226, 275), (640, 372), (175, 300), (249, 249), (640, 381), (290, 259), (640, 390), (462, 640), (147, 210), (640, 399), (236, 157), (300, 160), (290, 277), (640, 408), (300, 169), (598, 640), (253, 246), (236, 175), (300, 178), (282, 282), (5403, 3602), (300, 187), (137, 300), (530, 640), (282, 300), (271, 300), (300, 196), (277, 194), (293, 300), (424, 640), (640, 493), (640, 264), (640, 502), (640, 511), (250, 204), (205, 300), (210, 140), (291, 214), (300, 281), (88, 300), (300, 290), (239, 194), (240, 159), (300, 299), (640, 358), (240, 168), (640, 367), (213, 160), (186, 206), (295, 211), (640, 376), (107, 160), (640, 385), (3106, 2071), (640, 623), (300, 146), (640, 394), (236, 152), (300, 155), (60, 57), (190, 194), (180, 248), (300, 164), (300, 173), (210, 270), (197, 300), (186, 300), (300, 182), (640, 488), (269, 194), (258, 194), (640, 497), (3840, 2160), (254, 300), (265, 300), (280, 209), (120, 80), (300, 276), (200, 100), (640, 524), (300, 285), (220, 176), (300, 294), (220, 185), (217, 287), (640, 353), (250, 293), (640, 371), (216, 300), (227, 300), (620, 640), (640, 609), (640, 618), (3798, 6000), (300, 141), (640, 389), (503, 640), (369, 640), (300, 150), (171, 167), (300, 159), (300, 168), (295, 300), (284, 300), (300, 177), (426, 640), (189, 300), (178, 300), (560, 640), (167, 300), (640, 483), (640, 492), (640, 501), (250, 194), (300, 262), (220, 153), (640, 510), (229, 220), (120, 75), (300, 271), (220, 162), (246, 300), (272, 200), (160, 120), (300, 280), (151, 300), (300, 289), (248, 251), (285, 300), (533, 640), (640, 348), (300, 298), (640, 339), (427, 640), (640, 366), (300, 127), (188, 224), (640, 375), (300, 136), (208, 300), (300, 145), (300, 154), (484, 640), (506, 640), (495, 640), (220, 283), (300, 163), (640, 460), (250, 153), (267, 233), (640, 469), (640, 478), (236, 236), (170, 300), (159, 300), (640, 487), (250, 180), (640, 496), (457, 640), (300, 257), (300, 266), (212, 293), (284, 160), (640, 325), (300, 275), (300, 284), (160, 133), (300, 293), (640, 352), (266, 300), (277, 300), (251, 248), (259, 261), (640, 599), (300, 122), (270, 270), (117, 177), (300, 131), (300, 140), (300, 149), (220, 278), (300, 158), (200, 220), (640, 217), (487, 640), (640, 455), (298, 197), (640, 464), (640, 473), (219, 300), (250, 166), (623, 640), (640, 482), (300, 243), (300, 252), (296, 300), (280, 194), (300, 261)}\n"
     ]
    }
   ],
   "source": [
    "import os\n",
    "from PIL import Image\n",
    "\n",
    "\n",
    "image_sizes = set()\n",
    "for folder in os.listdir(path1):\n",
    "    folder_path = os.path.join(path1, folder)\n",
    "    if os.path.isdir(folder_path):\n",
    "        for filename in os.listdir(folder_path):\n",
    "            file_path = os.path.join(folder_path, filename)\n",
    "            with Image.open(file_path) as img:\n",
    "                image_sizes.add(img.size)\n",
    "\n",
    "print(image_sizes)"
   ],
   "metadata": {
    "collapsed": false,
    "pycharm": {
     "name": "#%%\n"
    }
   }
  },
  {
   "cell_type": "markdown",
   "source": [
    "Finding the top 40 images with biggest image size."
   ],
   "metadata": {
    "collapsed": false
   }
  },
  {
   "cell_type": "code",
   "execution_count": 449,
   "outputs": [
    {
     "name": "stdout",
     "output_type": "stream",
     "text": [
      "1 (6720, 4480)\n",
      "2 (6016, 4000)\n",
      "3 (6000, 4000)\n",
      "4 (5554, 3703)\n",
      "5 (5518, 3679)\n",
      "6 (5472, 3648)\n",
      "7 (5403, 3602)\n",
      "8 (5184, 3456)\n",
      "9 (4928, 3264)\n",
      "10 (4896, 3264)\n",
      "11 (4608, 3072)\n",
      "12 (4512, 3000)\n",
      "13 (4288, 2287)\n",
      "14 (4272, 2848)\n",
      "15 (4256, 2832)\n",
      "16 (4147, 2765)\n",
      "17 (4074, 2716)\n",
      "18 (4000, 2667)\n",
      "19 (3861, 2574)\n",
      "20 (3840, 2160)\n",
      "21 (3798, 6000)\n",
      "22 (3577, 5365)\n",
      "23 (3560, 2582)\n",
      "24 (3456, 4608)\n",
      "25 (3264, 2448)\n",
      "26 (3256, 4884)\n",
      "27 (3106, 2071)\n",
      "28 (2848, 4272)\n",
      "29 (2482, 1655)\n",
      "30 (640, 640)\n",
      "31 (640, 634)\n",
      "32 (640, 630)\n",
      "33 (640, 623)\n",
      "34 (640, 618)\n",
      "35 (640, 616)\n",
      "36 (640, 609)\n",
      "37 (640, 602)\n",
      "38 (640, 601)\n",
      "39 (640, 599)\n",
      "40 (640, 597)\n"
     ]
    }
   ],
   "source": [
    "num_list = list(image_sizes)\n",
    "num_list.sort(reverse=True)\n",
    "\n",
    "i = 1\n",
    "for num in num_list[:40]:\n",
    "    print(i, num)\n",
    "    i+=1"
   ],
   "metadata": {
    "collapsed": false,
    "pycharm": {
     "name": "#%%\n"
    }
   }
  },
  {
   "cell_type": "code",
   "execution_count": 457,
   "outputs": [
    {
     "name": "stdout",
     "output_type": "stream",
     "text": [
      "Mode of column 1: 640\n",
      "Mode of column 2: 300\n"
     ]
    }
   ],
   "source": [
    "import statistics\n",
    "\n",
    "column_1 = [x[0] for x in image_sizes]\n",
    "mode_1 = statistics.mode(column_1)\n",
    "print(\"Mode of column 1:\", mode_1)\n",
    "\n",
    "column_2 = [x[1] for x in image_sizes]\n",
    "mode_2 = statistics.mode(column_2)\n",
    "print(\"Mode of column 2:\", mode_2)"
   ],
   "metadata": {
    "collapsed": false,
    "pycharm": {
     "name": "#%%\n"
    }
   }
  },
  {
   "cell_type": "markdown",
   "source": [
    "Number of images in every folder."
   ],
   "metadata": {
    "collapsed": false
   }
  },
  {
   "cell_type": "code",
   "execution_count": 435,
   "outputs": [],
   "source": [
    "from prettytable import PrettyTable\n",
    "\n",
    "def printTable():\n",
    "    def count_files(path):\n",
    "        num_files = 0\n",
    "        for root, dirs, files in os.walk(path):\n",
    "            for file in files:\n",
    "                num_files += 1\n",
    "        return num_files\n",
    "\n",
    "    directories = [dir for dir in os.listdir(path)\n",
    "                   if os.path.isdir(os.path.join(path, dir))]\n",
    "\n",
    "    table = PrettyTable()\n",
    "    table.field_names = [\"folder\", \"img count\"]\n",
    "\n",
    "    for dir in directories:\n",
    "        dir_path = os.path.join(path, dir)\n",
    "        file_count = count_files(dir_path)\n",
    "        table.add_row([dir, file_count])\n",
    "\n",
    "    table.sortby = \"img count\"\n",
    "\n",
    "    print(table)"
   ],
   "metadata": {
    "collapsed": false,
    "pycharm": {
     "name": "#%%\n"
    }
   }
  },
  {
   "cell_type": "code",
   "execution_count": 436,
   "outputs": [
    {
     "name": "stdout",
     "output_type": "stream",
     "text": [
      "+-----------+-----------+\n",
      "|   folder  | img count |\n",
      "+-----------+-----------+\n",
      "|  elephant |    1446   |\n",
      "|    cat    |    1668   |\n",
      "|   sheep   |    1820   |\n",
      "|  squirrel |    1862   |\n",
      "|    cow    |    1866   |\n",
      "| butterfly |    2112   |\n",
      "|   horse   |    2623   |\n",
      "|  chicken  |    3098   |\n",
      "|   spider  |    4821   |\n",
      "|    dog    |    4863   |\n",
      "+-----------+-----------+\n"
     ]
    }
   ],
   "source": [
    "printTable()"
   ],
   "metadata": {
    "collapsed": false,
    "pycharm": {
     "name": "#%%\n"
    }
   }
  },
  {
   "cell_type": "markdown",
   "source": [
    "We have 1446 elephant images, which is the fewest in the dataset.\n",
    "We want to have 2000 images in every folder."
   ],
   "metadata": {
    "collapsed": false
   }
  },
  {
   "cell_type": "code",
   "execution_count": 502,
   "outputs": [],
   "source": [
    "# Set the target number of images\n",
    "target_num_images = 2000\n",
    "\n",
    "transform = transforms.Compose([\n",
    "    transforms.Resize((224, 224)),\n",
    "    transforms.RandomCrop(size=224),\n",
    "    transforms.RandomHorizontalFlip(),\n",
    "    transforms.RandomRotation(degrees=30),\n",
    "    transforms.ToTensor(),\n",
    "])\n",
    "\n",
    "import os\n",
    "from PIL import Image\n",
    "from torchvision import transforms\n",
    "from torchvision.transforms import functional as F\n",
    "import random\n",
    "\n",
    "# Loop through each folder in the dataset and apply data augmentation\n",
    "for folder_name in os.listdir(path):\n",
    "    folder_path = os.path.join(path, folder_name)\n",
    "    num_images = len(os.listdir(folder_path))\n",
    "    num_augmented_images = target_num_images - num_images\n",
    "    if num_augmented_images <= 0:\n",
    "        continue\n",
    "    for i in range(num_augmented_images):\n",
    "        # Load an image from the folder\n",
    "        image_path = os.path.join(folder_path, os.listdir(folder_path)[i % num_images])\n",
    "        image = Image.open(image_path)\n",
    "        image = image.convert('RGB')\n",
    "\n",
    "        # Apply data augmentation to the image\n",
    "        augmented_image = transform(image)\n",
    "\n",
    "        # Save the augmented image to the folder\n",
    "        new_image_path = os.path.join(folder_path, f\"xaugmented_{i}.png\")\n",
    "        augmented_image = augmented_image.permute(1, 2, 0).numpy()\n",
    "        Image.fromarray((augmented_image * 255).astype('uint8')).save(new_image_path)"
   ],
   "metadata": {
    "collapsed": false,
    "pycharm": {
     "name": "#%%\n"
    }
   }
  },
  {
   "cell_type": "code",
   "execution_count": 417,
   "outputs": [
    {
     "name": "stdout",
     "output_type": "stream",
     "text": [
      "+-----------+-----------+\n",
      "|   folder  | img count |\n",
      "+-----------+-----------+\n",
      "|    cat    |    2000   |\n",
      "|    cow    |    2000   |\n",
      "|  elephant |    2000   |\n",
      "|   sheep   |    2000   |\n",
      "|  squirrel |    2000   |\n",
      "| butterfly |    2112   |\n",
      "|   horse   |    2623   |\n",
      "|  chicken  |    3098   |\n",
      "|   spider  |    4821   |\n",
      "|    dog    |    4863   |\n",
      "+-----------+-----------+\n"
     ]
    }
   ],
   "source": [
    "printTable()"
   ],
   "metadata": {
    "collapsed": false,
    "pycharm": {
     "name": "#%%\n"
    }
   }
  },
  {
   "cell_type": "markdown",
   "source": [
    "Now we randomly remove images from the dataset so that we have exactly 2000 images in each folder."
   ],
   "metadata": {
    "collapsed": false
   }
  },
  {
   "cell_type": "code",
   "execution_count": 503,
   "outputs": [],
   "source": [
    "for folder in os.listdir(path):\n",
    "    folder_path = os.path.join(path, folder)\n",
    "\n",
    "    if os.path.isdir(folder_path):\n",
    "        files = os.listdir(folder_path)\n",
    "\n",
    "        if len(files) > target_num_images:\n",
    "            keep_files = random.sample(files, target_num_images)\n",
    "\n",
    "            for file in files:\n",
    "                file_path = os.path.join(folder_path, file)\n",
    "\n",
    "                if file not in keep_files:\n",
    "                    os.remove(file_path)"
   ],
   "metadata": {
    "collapsed": false,
    "pycharm": {
     "name": "#%%\n"
    }
   }
  },
  {
   "cell_type": "code",
   "execution_count": 504,
   "outputs": [
    {
     "name": "stdout",
     "output_type": "stream",
     "text": [
      "+-----------+-----------+\n",
      "|   folder  | img count |\n",
      "+-----------+-----------+\n",
      "| butterfly |    2000   |\n",
      "|    cat    |    2000   |\n",
      "|  chicken  |    2000   |\n",
      "|    cow    |    2000   |\n",
      "|    dog    |    2000   |\n",
      "|  elephant |    2000   |\n",
      "|   horse   |    2000   |\n",
      "|   sheep   |    2000   |\n",
      "|   spider  |    2000   |\n",
      "|  squirrel |    2000   |\n",
      "+-----------+-----------+\n"
     ]
    }
   ],
   "source": [
    "printTable()"
   ],
   "metadata": {
    "collapsed": false,
    "pycharm": {
     "name": "#%%\n"
    }
   }
  },
  {
   "cell_type": "code",
   "execution_count": 505,
   "outputs": [],
   "source": [
    "import os\n",
    "import collections\n",
    "\n",
    "def print_formats():\n",
    "    formats = collections.defaultdict(int)\n",
    "\n",
    "    for root, dirs, files in os.walk(path):\n",
    "        for file in files:\n",
    "            file_format = file.split('.')[-1]\n",
    "            formats[file_format] += 1\n",
    "\n",
    "    print(formats)"
   ],
   "metadata": {
    "collapsed": false,
    "pycharm": {
     "name": "#%%\n"
    }
   }
  },
  {
   "cell_type": "code",
   "execution_count": 506,
   "outputs": [
    {
     "name": "stdout",
     "output_type": "stream",
     "text": [
      "defaultdict(<class 'int'>, {'jpg': 1702, 'png': 1386, 'jpeg': 16912})\n"
     ]
    }
   ],
   "source": [
    "print_formats()"
   ],
   "metadata": {
    "collapsed": false,
    "pycharm": {
     "name": "#%%\n"
    }
   }
  },
  {
   "cell_type": "markdown",
   "source": [
    "Convert all image to png."
   ],
   "metadata": {
    "collapsed": false
   }
  },
  {
   "cell_type": "code",
   "execution_count": 508,
   "outputs": [],
   "source": [
    "# loop over all subfolders in the root directory\n",
    "for subdir, dirs, files in os.walk(path):\n",
    "    for file in files:\n",
    "        # check if the file is an image and not a PNG file\n",
    "        if not file.endswith('.png') and (file.endswith('.jpg') or file.endswith('.jpeg') or file.endswith('.bmp')):\n",
    "            # open the image file\n",
    "            img_path = os.path.join(subdir, file)\n",
    "            img = Image.open(img_path)\n",
    "            # convert the image to RGB if it is in CMYK mode\n",
    "            if img.mode == 'CMYK':\n",
    "                img = img.convert('RGB')\n",
    "            # convert the image to PNG and save it\n",
    "            png_path = os.path.splitext(img_path)[0] + '.png'\n",
    "            img.save(png_path)\n",
    "            # delete the original file\n",
    "            os.remove(img_path)"
   ],
   "metadata": {
    "collapsed": false,
    "pycharm": {
     "name": "#%%\n"
    }
   }
  },
  {
   "cell_type": "code",
   "execution_count": 509,
   "outputs": [
    {
     "name": "stdout",
     "output_type": "stream",
     "text": [
      "defaultdict(<class 'int'>, {'png': 19999})\n"
     ]
    }
   ],
   "source": [
    "print_formats()"
   ],
   "metadata": {
    "collapsed": false,
    "pycharm": {
     "name": "#%%\n"
    }
   }
  },
  {
   "cell_type": "code",
   "execution_count": 4,
   "outputs": [],
   "source": [
    "import torch\n",
    "import torchvision.transforms as transforms\n",
    "import torchvision.datasets as datasets\n",
    "\n",
    "data_dir = \"path/to/dataset\"\n",
    "transform = transforms.Compose([\n",
    "    transforms.Resize((224, 224)),\n",
    "    transforms.ToTensor()\n",
    "])\n",
    "dataset = datasets.ImageFolder(root=path, transform=transform)"
   ],
   "metadata": {
    "collapsed": false,
    "pycharm": {
     "name": "#%%\n"
    }
   }
  },
  {
   "cell_type": "code",
   "execution_count": 5,
   "outputs": [],
   "source": [
    "data_loader = torch.utils.data.DataLoader(dataset, batch_size=64, shuffle=False, num_workers=4)"
   ],
   "metadata": {
    "collapsed": false,
    "pycharm": {
     "name": "#%%\n"
    }
   }
  },
  {
   "cell_type": "code",
   "execution_count": null,
   "outputs": [],
   "source": [
    "mean = 0.\n",
    "std = 0.\n",
    "total_images = 0\n",
    "for images, _ in data_loader:\n",
    "    batch_samples = images.size(0)\n",
    "    images = images.view(batch_samples, images.size(1), -1)\n",
    "    mean += images.mean(2).sum(0)\n",
    "    std += images.std(2).sum(0)\n",
    "    total_images += batch_samples\n",
    "\n",
    "mean /= total_images\n",
    "std /= total_images"
   ],
   "metadata": {
    "collapsed": false,
    "pycharm": {
     "name": "#%%\n"
    }
   }
  },
  {
   "cell_type": "code",
   "execution_count": 515,
   "outputs": [
    {
     "name": "stdout",
     "output_type": "stream",
     "text": [
      "Mean:  tensor([0.5083, 0.4925, 0.4063])\n",
      "Std:  tensor([0.2185, 0.2171, 0.2197])\n"
     ]
    }
   ],
   "source": [
    "\n",
    "print(\"Mean: \", mean)\n",
    "print(\"Std: \", std)"
   ],
   "metadata": {
    "collapsed": false,
    "pycharm": {
     "name": "#%%\n"
    }
   }
  },
  {
   "cell_type": "code",
   "execution_count": 6,
   "outputs": [],
   "source": [
    "transform = transforms.Compose([\n",
    "    transforms.Resize((224, 224)),\n",
    "    transforms.ToTensor(),\n",
    "    transforms.Normalize(mean=[0.5083, 0.4925, 0.4063], std=[0.2185, 0.2171, 0.2197])\n",
    "])"
   ],
   "metadata": {
    "collapsed": false,
    "pycharm": {
     "name": "#%%\n"
    }
   }
  },
  {
   "cell_type": "code",
   "execution_count": 10,
   "outputs": [],
   "source": [
    "dataset = torchvision.datasets.ImageFolder(root=path, transform=transform)"
   ],
   "metadata": {
    "collapsed": false,
    "pycharm": {
     "name": "#%%\n"
    }
   }
  },
  {
   "cell_type": "code",
   "execution_count": 11,
   "outputs": [],
   "source": [
    "# Split the dataset into training and testing sets\n",
    "train_size = int(0.8 * len(dataset))\n",
    "test_size = len(dataset) - train_size\n",
    "train_dataset, test_dataset = torch.utils.data.random_split(dataset, [train_size, test_size])\n",
    "\n",
    "mini_data_size = len(dataset) * 0.2\n",
    "mini_train_size = int(0.8 * mini_data_size)\n",
    "mini_test_size = len(dataset) - mini_train_size\n",
    "\n",
    "mini_train_dataset, mini_test_dataset = torch.utils.data.random_split(dataset, [mini_train_size, mini_test_size])"
   ],
   "metadata": {
    "collapsed": false,
    "pycharm": {
     "name": "#%%\n"
    }
   }
  },
  {
   "cell_type": "code",
   "execution_count": 16,
   "outputs": [
    {
     "name": "stderr",
     "output_type": "stream",
     "text": [
      "Clipping input data to the valid range for imshow with RGB data ([0..1] for floats or [0..255] for integers).\n"
     ]
    },
    {
     "data": {
      "text/plain": "<Figure size 640x480 with 1 Axes>",
      "image/png": "[encoded data removed]"
     },
     "metadata": {},
     "output_type": "display_data"
    }
   ],
   "source": [
    "import matplotlib.pyplot as plt\n",
    "\n",
    "img, label = mini_train_dataset[450]\n",
    "# Transpose the tensor to match the expected format for imshow\n",
    "img = img.permute(1, 2, 0)\n",
    "\n",
    "# Show the image using matplotlib\n",
    "plt.imshow(img)\n",
    "plt.axis('off')\n",
    "plt.show()"
   ],
   "metadata": {
    "collapsed": false,
    "pycharm": {
     "name": "#%%\n"
    }
   }
  },
  {
   "cell_type": "markdown",
   "source": [
    "# End of data analysis"
   ],
   "metadata": {
    "collapsed": false
   }
  },
  {
   "cell_type": "code",
   "execution_count": 30,
   "outputs": [],
   "source": [
    "\n",
    "batch_size = 16\n",
    "trainloader = torch.utils.data.DataLoader(mini_train_dataset, batch_size=batch_size, shuffle=True)\n",
    "testloader = torch.utils.data.DataLoader(mini_test_dataset, batch_size=batch_size, shuffle=False)"
   ],
   "metadata": {
    "collapsed": false,
    "pycharm": {
     "name": "#%%\n"
    }
   }
  },
  {
   "cell_type": "code",
   "execution_count": 31,
   "outputs": [],
   "source": [
    "import torch\n",
    "import torch.nn as nn\n",
    "import torch.optim as optim\n",
    "import torchvision.transforms as transforms\n",
    "import torchvision.datasets as datasets\n",
    "from torch.utils.data import DataLoader\n",
    "\n",
    "# Define the CNN architecture\n",
    "class Model(nn.Module):\n",
    "    def __init__(self, num_classes=10):\n",
    "        super(Model, self).__init__()\n",
    "\n",
    "        self.conv1 = nn.Conv2d(3, 32, kernel_size=(3,3), stride=(1,1), padding=1)\n",
    "        self.bn1 = nn.BatchNorm2d(32)\n",
    "        self.relu1 = nn.ReLU()\n",
    "        self.pool1 = nn.MaxPool2d(kernel_size=2)\n",
    "\n",
    "        self.conv2 = nn.Conv2d(32, 64, kernel_size=(3,3), stride=(1,1), padding=1)\n",
    "        self.bn2 = nn.BatchNorm2d(64)\n",
    "        self.relu2 = nn.ReLU()\n",
    "        self.pool2 = nn.MaxPool2d(kernel_size=2)\n",
    "\n",
    "        self.conv3 = nn.Conv2d(64, 128, kernel_size=(3,3), stride=(1,1), padding=1)\n",
    "        self.bn3 = nn.BatchNorm2d(128)\n",
    "        self.relu3 = nn.ReLU()\n",
    "        self.pool3 = nn.MaxPool2d(kernel_size=2)\n",
    "\n",
    "        self.fc1 = nn.Linear(128 * 28 * 28, 512)\n",
    "        self.relu4 = nn.ReLU()\n",
    "        self.dropout = nn.Dropout(0.5)\n",
    "        self.fc2 = nn.Linear(512, num_classes)\n",
    "\n",
    "    def forward(self, x):\n",
    "        x = self.conv1(x)\n",
    "        x = self.bn1(x)\n",
    "        x = self.relu1(x)\n",
    "        x = self.pool1(x)\n",
    "\n",
    "        x = self.conv2(x)\n",
    "        x = self.bn2(x)\n",
    "        x = self.relu2(x)\n",
    "        x = self.pool2(x)\n",
    "\n",
    "        x = self.conv3(x)\n",
    "        x = self.bn3(x)\n",
    "        x = self.relu3(x)\n",
    "        x = self.pool3(x)\n",
    "\n",
    "        x = x.view(-1, 128 * 28 * 28)\n",
    "        x = self.fc1(x)\n",
    "        x = self.relu4(x)\n",
    "        x = self.dropout(x)\n",
    "        x = self.fc2(x)\n",
    "\n",
    "        return x"
   ],
   "metadata": {
    "collapsed": false,
    "pycharm": {
     "name": "#%%\n"
    }
   }
  },
  {
   "cell_type": "code",
   "execution_count": 32,
   "outputs": [
    {
     "data": {
      "text/plain": "'|===========================================================================|\\n|                  PyTorch CUDA memory summary, device ID 0                 |\\n|---------------------------------------------------------------------------|\\n|            CUDA OOMs: 0            |        cudaMalloc retries: 0         |\\n|===========================================================================|\\n|        Metric         | Cur Usage  | Peak Usage | Tot Alloc  | Tot Freed  |\\n|---------------------------------------------------------------------------|\\n| Allocated memory      |  614462 KB |    1273 MB |    1839 GB |    1839 GB |\\n|       from large pool |  613284 KB |    1271 MB |    1839 GB |    1838 GB |\\n|       from small pool |    1178 KB |       1 MB |       0 GB |       0 GB |\\n|---------------------------------------------------------------------------|\\n| Active memory         |  614462 KB |    1273 MB |    1839 GB |    1839 GB |\\n|       from large pool |  613284 KB |    1271 MB |    1839 GB |    1838 GB |\\n|       from small pool |    1178 KB |       1 MB |       0 GB |       0 GB |\\n|---------------------------------------------------------------------------|\\n| GPU reserved memory   |  624640 KB |    1484 MB |    1484 MB |     874 MB |\\n|       from large pool |  622592 KB |    1482 MB |    1482 MB |     874 MB |\\n|       from small pool |    2048 KB |       2 MB |       2 MB |       0 MB |\\n|---------------------------------------------------------------------------|\\n| Non-releasable memory |   10177 KB |  334203 KB |  761150 MB |  761140 MB |\\n|       from large pool |    9308 KB |  333336 KB |  760356 MB |  760347 MB |\\n|       from small pool |     869 KB |    2044 KB |     793 MB |     793 MB |\\n|---------------------------------------------------------------------------|\\n| Allocations           |      64    |      87    |   65106    |   65042    |\\n|       from large pool |       5    |      18    |   36016    |   36011    |\\n|       from small pool |      59    |      73    |   29090    |   29031    |\\n|---------------------------------------------------------------------------|\\n| Active allocs         |      64    |      87    |   65106    |   65042    |\\n|       from large pool |       5    |      18    |   36016    |   36011    |\\n|       from small pool |      59    |      73    |   29090    |   29031    |\\n|---------------------------------------------------------------------------|\\n| GPU reserved segments |       5    |      13    |      13    |       8    |\\n|       from large pool |       4    |      12    |      12    |       8    |\\n|       from small pool |       1    |       1    |       1    |       0    |\\n|---------------------------------------------------------------------------|\\n| Non-releasable allocs |       6    |      14    |   31387    |   31381    |\\n|       from large pool |       1    |       9    |   17023    |   17022    |\\n|       from small pool |       5    |       7    |   14364    |   14359    |\\n|---------------------------------------------------------------------------|\\n| Oversize allocations  |       0    |       0    |       0    |       0    |\\n|---------------------------------------------------------------------------|\\n| Oversize GPU segments |       0    |       0    |       0    |       0    |\\n|===========================================================================|\\n'"
     },
     "execution_count": 32,
     "metadata": {},
     "output_type": "execute_result"
    }
   ],
   "source": [
    "torch.cuda.empty_cache()\n",
    "torch.cuda.memory_summary(device=None, abbreviated=False)\n"
   ],
   "metadata": {
    "collapsed": false,
    "pycharm": {
     "name": "#%%\n"
    }
   }
  },
  {
   "cell_type": "code",
   "execution_count": 33,
   "outputs": [],
   "source": [
    "model = Model()\n",
    "model.to(device)\n",
    "\n",
    "criterion = torch.nn.CrossEntropyLoss()\n",
    "optimizer = torch.optim.SGD(model.parameters(), lr=0.001, momentum=0.9)"
   ],
   "metadata": {
    "collapsed": false,
    "pycharm": {
     "name": "#%%\n"
    }
   }
  },
  {
   "cell_type": "code",
   "execution_count": 34,
   "outputs": [],
   "source": [
    "torch.cuda.empty_cache()"
   ],
   "metadata": {
    "collapsed": false,
    "pycharm": {
     "name": "#%%\n"
    }
   }
  },
  {
   "cell_type": "code",
   "execution_count": 35,
   "outputs": [
    {
     "name": "stdout",
     "output_type": "stream",
     "text": [
      "[1,    10] loss: 2.542\n",
      "[1,    20] loss: 2.764\n",
      "[1,    30] loss: 2.502\n",
      "[1,    40] loss: 2.164\n",
      "[1,    50] loss: 2.163\n",
      "[1,    60] loss: 2.073\n",
      "[1,    70] loss: 2.231\n",
      "[1,    80] loss: 2.101\n",
      "[1,    90] loss: 2.028\n",
      "[1,   100] loss: 2.123\n",
      "[1,   110] loss: 2.040\n",
      "[1,   120] loss: 2.043\n",
      "[1,   130] loss: 2.017\n",
      "[1,   140] loss: 2.040\n",
      "[1,   150] loss: 2.068\n",
      "[1,   160] loss: 2.073\n",
      "[1,   170] loss: 2.012\n",
      "[1,   180] loss: 2.017\n",
      "[1,   190] loss: 2.128\n",
      "[1,   200] loss: 2.190\n",
      "[1,   210] loss: 1.997\n",
      "[1,   220] loss: 2.066\n",
      "[1,   230] loss: 2.053\n",
      "[1,   240] loss: 2.062\n",
      "[1,   250] loss: 1.886\n",
      "[1,   260] loss: 1.853\n",
      "[2,    10] loss: 2.049\n",
      "[2,    20] loss: 1.898\n",
      "[2,    30] loss: 1.862\n",
      "[2,    40] loss: 2.011\n",
      "[2,    50] loss: 1.953\n",
      "[2,    60] loss: 2.038\n",
      "[2,    70] loss: 1.991\n",
      "[2,    80] loss: 1.958\n",
      "[2,    90] loss: 2.053\n",
      "[2,   100] loss: 1.984\n",
      "[2,   110] loss: 1.943\n",
      "[2,   120] loss: 2.053\n",
      "[2,   130] loss: 2.053\n",
      "[2,   140] loss: 2.043\n",
      "[2,   150] loss: 2.022\n",
      "[2,   160] loss: 1.993\n",
      "[2,   170] loss: 1.970\n",
      "[2,   180] loss: 2.089\n",
      "[2,   190] loss: 2.112\n",
      "[2,   200] loss: 1.940\n",
      "[2,   210] loss: 2.087\n",
      "[2,   220] loss: 1.945\n",
      "[2,   230] loss: 1.976\n",
      "[2,   240] loss: 1.961\n",
      "[2,   250] loss: 1.931\n",
      "[2,   260] loss: 2.026\n",
      "Finished Training\n"
     ]
    }
   ],
   "source": [
    "for epoch in range(20):\n",
    "\n",
    "    running_loss = 0.0\n",
    "    for i, data in enumerate(trainloader, 0):\n",
    "        inputs, labels = data\n",
    "\n",
    "        # Move the inputs and labels to the device\n",
    "        inputs, labels = inputs.to(device), labels.to(device)\n",
    "\n",
    "        optimizer.zero_grad()\n",
    "\n",
    "        outputs = model(inputs)\n",
    "        loss = criterion(outputs, labels)\n",
    "        loss.backward()\n",
    "        optimizer.step()\n",
    "\n",
    "        running_loss += loss.item()\n",
    "        if i % 10 == 9:\n",
    "            print('[%d, %5d] loss: %.3f' % (epoch + 1, i + 1, running_loss / 10))\n",
    "            running_loss = 0.0\n",
    "\n",
    "print('Finished Training')"
   ],
   "metadata": {
    "collapsed": false,
    "pycharm": {
     "name": "#%%\n"
    }
   }
  },
  {
   "cell_type": "code",
   "execution_count": 21,
   "outputs": [
    {
     "name": "stdout",
     "output_type": "stream",
     "text": [
      "Test Accuracy: 35.10%\n"
     ]
    }
   ],
   "source": [
    "correct = 0\n",
    "total = 0\n",
    "\n",
    "model.eval()\n",
    "\n",
    "with torch.no_grad():\n",
    "    for images, labels in testloader:\n",
    "        images, labels = images.to(device), labels.to(device)\n",
    "\n",
    "        outputs = model(images)\n",
    "\n",
    "        _, predicted = torch.max(outputs.data, 1)\n",
    "\n",
    "        total += labels.size(0)\n",
    "        correct += (predicted == labels).sum().item()\n",
    "\n",
    "accuracy = 100 * correct / total\n",
    "\n",
    "print('Test Accuracy: {:.2f}%'.format(accuracy))"
   ],
   "metadata": {
    "collapsed": false,
    "pycharm": {
     "name": "#%%\n"
    }
   }
  }
 ],
 "metadata": {
  "kernelspec": {
   "display_name": "Python 3",
   "language": "python",
   "name": "python3"
  },
  "language_info": {
   "codemirror_mode": {
    "name": "ipython",
    "version": 2
   },
   "file_extension": ".py",
   "mimetype": "text/x-python",
   "name": "python",
   "nbconvert_exporter": "python",
   "pygments_lexer": "ipython2",
   "version": "2.7.6"
  }
 },
 "nbformat": 4,
 "nbformat_minor": 0
}