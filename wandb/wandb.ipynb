{
 "cells": [
  {
   "cell_type": "markdown",
   "metadata": {},
   "source": [
    "<details>\n",
    "    <summary><strong>Correct answer:</strong></summary>\n",
    "\n",
    "```python\n",
    "# TODO: import WandB\n",
    "import wandb\n",
    "```\n",
    "------\n",
    "    \n",
    "```python\n",
    "# TODO: import WandB Alert and timedelta\n",
    "from wandb import AlertLevel\n",
    "from datetime import timedelta\n",
    "```\n",
    "</details>"
   ]
  },
  {
   "cell_type": "code",
   "execution_count": null,
   "metadata": {},
   "outputs": [],
   "source": [
    "# TODO: import WandB\n",
    "\n",
    "import torch, torchvision, os\n",
    "\n",
    "import numpy as np\n",
    "import scikitplot as skplt\n",
    "import matplotlib.pyplot as plt\n",
    "import torch.nn.functional as F\n",
    "\n",
    "# TODO: import WandB Alert and timedelta\n",
    "\n",
    "from sklearn.metrics import f1_score\n",
    "from sklearn import datasets\n",
    "from tqdm import tqdm"
   ]
  },
  {
   "cell_type": "markdown",
   "metadata": {},
   "source": [
    "<details>\n",
    "    <summary><strong>Correct answer:</strong></summary>\n",
    "\n",
    "```python\n",
    "# TODO: WandB login\n",
    "wandb.login()\n",
    "```\n",
    "</details>"
   ]
  },
  {
   "cell_type": "code",
   "execution_count": null,
   "metadata": {},
   "outputs": [],
   "source": [
    "# TODO: WandB login"
   ]
  },
  {
   "cell_type": "markdown",
   "metadata": {},
   "source": [
    "## Dataset\n",
    "\n",
    "[torch.utils.data.Dataset](https://pytorch.org/docs/stable/data.html#torch.utils.data.Dataset) - An abstract class representing a Dataset \n",
    "\n",
    "[torch.utils.data.DataLoader](https://pytorch.org/docs/stable/data.html#torch.utils.data.DataLoader) - Data loader. Combines a dataset and a sampler, and provides an iterable over the given dataset.\n",
    "\n",
    "[sklearn.datasets.load_iris()](https://scikit-learn.org/stable/modules/generated/sklearn.datasets.load_iris.html#sklearn.datasets.load_iris) - Iris Dataset. "
   ]
  },
  {
   "cell_type": "code",
   "execution_count": null,
   "metadata": {},
   "outputs": [],
   "source": [
    "class IrisDataset(torch.utils.data.Dataset):\n",
    "    def __init__(self, train=True):\n",
    "        super(IrisDataset, self).__init__()\n",
    "        iris = datasets.load_iris()\n",
    "        self.inputs = torch.from_numpy(iris.data.astype(np.float32))\n",
    "        self.targets = torch.from_numpy(iris.target.astype(np.long))\n",
    "\n",
    "    def __len__(self):\n",
    "        return len(self.targets)\n",
    "    \n",
    "    def __getitem__(self, item):\n",
    "        return [self.inputs[item], self.targets[item]]"
   ]
  },
  {
   "cell_type": "code",
   "execution_count": null,
   "metadata": {},
   "outputs": [],
   "source": [
    "train_dataset = IrisDataset()\n",
    "trainloader = torch.utils.data.DataLoader(train_dataset, batch_size=64, shuffle=True, )\n",
    "\n",
    "print(len(train_dataset))"
   ]
  },
  {
   "cell_type": "code",
   "execution_count": null,
   "metadata": {},
   "outputs": [],
   "source": [
    "train_dataset[0][0].shape"
   ]
  },
  {
   "cell_type": "markdown",
   "metadata": {},
   "source": [
    "## Model\n",
    "\n",
    "[torch.nn.Module](https://pytorch.org/docs/stable/generated/torch.nn.Module.html#torch.nn.Module) - Base class for all neural network modules. \n",
    "\n",
    "[torch.nn.Conv2d](https://pytorch.org/docs/stable/generated/torch.nn.Conv2d.html#torch.nn.Conv2d) - Applies a 2D convolution over an input signal composed of several input planes.\n",
    "\n",
    "[torch.nn.MaxPool2d](https://pytorch.org/docs/stable/generated/torch.nn.MaxPool2d.html#torch.nn.MaxPool2d) - Applies a 2D max pooling over an input signal composed of several input planes.\n",
    "\n",
    "[torch.nn.Linear](https://pytorch.org/docs/stable/generated/torch.nn.Linear.html#torch.nn.Linear) - Applies a linear transformation to the incoming data: $ y = xA^T + b $\n",
    "\n",
    "[torch.nn.functional.relu](https://pytorch.org/docs/stable/nn.functional.html#torch.nn.functional.relu) - Applies the rectified linear unit function element-wise."
   ]
  },
  {
   "cell_type": "code",
   "execution_count": null,
   "metadata": {},
   "outputs": [],
   "source": [
    "class IrisNet(torch.nn.Module):\n",
    "    def __init__(self):\n",
    "        super(IrisNet, self).__init__()\n",
    "        self.fc1 = torch.nn.Linear(4, 100)\n",
    "        self.fc2 = torch.nn.Linear(100, 3)\n",
    "\n",
    "    def forward(self, x):\n",
    "        x = F.relu(self.fc1(x))\n",
    "        x = self.fc2(x)\n",
    "        return x"
   ]
  },
  {
   "cell_type": "markdown",
   "metadata": {},
   "source": [
    "## Define a Loss function and optimizer"
   ]
  },
  {
   "cell_type": "code",
   "execution_count": null,
   "metadata": {},
   "outputs": [],
   "source": [
    "config = {\"lr\": 1e-2, \"num_epoch\": 15}"
   ]
  },
  {
   "cell_type": "code",
   "execution_count": null,
   "metadata": {},
   "outputs": [],
   "source": [
    "model = IrisNet()\n",
    "\n",
    "criterion = torch.nn.CrossEntropyLoss()\n",
    "optimizer = torch.optim.Adam(model.parameters(), lr=config[\"lr\"])"
   ]
  },
  {
   "cell_type": "markdown",
   "metadata": {},
   "source": [
    "<details>\n",
    "  <summary><strong>Correct answer:</strong></summary>\n",
    "\n",
    "```python\n",
    "# TODO: WandB init\n",
    "run = wandb.init(project=\"mnist\")\n",
    "    \n",
    "# TODO: WandB config\n",
    "wandb.config.update(config)\n",
    "    \n",
    "# TODO: WandB watch\n",
    "wandb.watch(model)\n",
    "```\n",
    "</details>"
   ]
  },
  {
   "cell_type": "code",
   "execution_count": null,
   "metadata": {},
   "outputs": [],
   "source": [
    "# TODO: WandB init\n",
    "\n",
    "\n",
    "# TODO: WandB config\n",
    "\n",
    "\n",
    "# TODO: WandB watch\n"
   ]
  },
  {
   "cell_type": "markdown",
   "metadata": {},
   "source": [
    "## Train the network\n",
    "<details>\n",
    "    <summary><strong>Correct answer:</strong></summary>\n",
    "\n",
    "```python\n",
    "# TODO: Change to wandb.log\n",
    "wandb.log({\"loss\": loss}, commit=False)\n",
    "wandb.log({\"f1_macro\": f1_macro}, commit=False)\n",
    "wandb.log(f1_none, commit=False)\n",
    "wandb.log({\"cf_matrix\": wandb.Image(plt)})\n",
    "plt.close()\n",
    "```\n",
    "--------\n",
    "\n",
    "```python\n",
    "# TODO: WandB Alerts\n",
    "if f1_macro > 0.7:\n",
    "    wandb.alert(\n",
    "        title='Good accuracy', \n",
    "        text=f'F1-score {f1_macro} is above 0.7',\n",
    "        level=AlertLevel.INFO, # INFO, WARN, or ERROR \n",
    "        wait_duration=timedelta(minutes=5)\n",
    "    )\n",
    "```\n",
    "</details>"
   ]
  },
  {
   "cell_type": "code",
   "execution_count": null,
   "metadata": {},
   "outputs": [],
   "source": [
    "for e in range(config[\"num_epoch\"]):\n",
    "    for i, data in tqdm(enumerate(trainloader)):\n",
    "        # get the inputs; data is a list of [inputs, labels]\n",
    "        inputs, targets = data\n",
    "\n",
    "        # zero the parameter gradients\n",
    "        optimizer.zero_grad()\n",
    "\n",
    "        # forward + backward + optimize\n",
    "        outputs = model(inputs)\n",
    "        loss = criterion(outputs, targets)\n",
    "        loss.backward()\n",
    "        optimizer.step()\n",
    "\n",
    "    # print progress\n",
    "    loss = loss.item()\n",
    "    # TODO: Change to wandb.log\n",
    "    print('[%5d] loss: %.3f' % (i + 1, loss))\n",
    "    with torch.no_grad():\n",
    "        predicted = []\n",
    "        targeted = []\n",
    "        for data in trainloader:\n",
    "            inputs, targets = data\n",
    "            outputs = torch.argmax(model(inputs), -1)\n",
    "            targeted += targets.tolist()\n",
    "            predicted += outputs.tolist()\n",
    "\n",
    "        f1_none = f1_score(targeted, predicted, average=None)\n",
    "        f1_macro = f1_score(targeted, predicted, average='macro')\n",
    "\n",
    "    # TODO: Change to wandb.log\n",
    "    print('[%5d] f1_macro: %.3f' % (i + 1, f1_macro))\n",
    "    f1_none = {\"f1_none/\"+str(e): v for e,v in enumerate(f1_none)}\n",
    "    print('[%5d]', f1_none)\n",
    "\n",
    "    skplt.metrics.plot_confusion_matrix(targeted, predicted, normalize=True)\n",
    "    plt.show()\n",
    "    \n",
    "    # TODO: WandB Alerts\n"
   ]
  },
  {
   "cell_type": "markdown",
   "metadata": {},
   "source": [
    "<details>\n",
    "  <summary> <strong> Correct answer: </strong> </summary>\n",
    "\n",
    "```python    \n",
    "# TODO: WandB Save File\n",
    "wandb.save(\"path/to/file\")\n",
    "```\n",
    "</details>"
   ]
  },
  {
   "cell_type": "code",
   "execution_count": null,
   "metadata": {},
   "outputs": [],
   "source": [
    "torch.save(model.state_dict(), \"model.pth\")\n",
    "\n",
    "# TODO: WandB Save File\n"
   ]
  },
  {
   "cell_type": "markdown",
   "metadata": {},
   "source": [
    "<details>\n",
    "    <summary><strong>Correct answer:</strong></summary>\n",
    "\n",
    "```python\n",
    "# TODO: WandB Finish    \n",
    "run.finish()\n",
    "```\n",
    "</details>"
   ]
  },
  {
   "cell_type": "code",
   "execution_count": null,
   "metadata": {},
   "outputs": [],
   "source": [
    "# TODO: WandB Finish\n"
   ]
  },
  {
   "cell_type": "markdown",
   "metadata": {},
   "source": [
    "<details>\n",
    "  <summary> <strong> Correct answer: </strong> </summary> \n",
    "\n",
    "```python\n",
    "# TODO: WandB reinit\n",
    "run = wandb.init(project=\"project_name\", id=\"project_id\", resume=True)\n",
    "model_pth = wandb.restore(\"model.pth\")\n",
    "```\n",
    "</details>"
   ]
  },
  {
   "cell_type": "code",
   "execution_count": null,
   "metadata": {},
   "outputs": [],
   "source": [
    "# TODO: WandB reinit\n",
    "\n",
    "\n",
    "model = IrisNet()\n",
    "\n",
    "model.load_state_dict(torch.load(model_pth.name))"
   ]
  },
  {
   "cell_type": "code",
   "execution_count": null,
   "metadata": {},
   "outputs": [],
   "source": [
    "run.finish()"
   ]
  },
  {
   "cell_type": "code",
   "execution_count": null,
   "metadata": {},
   "outputs": [],
   "source": [
    "run = wandb.init(project=\"another-logs\")"
   ]
  },
  {
   "cell_type": "code",
   "execution_count": null,
   "metadata": {},
   "outputs": [],
   "source": [
    "mnist = torchvision.datasets.MNIST(root='.', train=True, download=True)"
   ]
  },
  {
   "cell_type": "code",
   "execution_count": null,
   "metadata": {},
   "outputs": [],
   "source": [
    "print(np.array(mnist[0][0]).shape)"
   ]
  },
  {
   "cell_type": "markdown",
   "metadata": {},
   "source": [
    "<details>\n",
    "    <summary><strong>Correct answer:</strong></summary>\n",
    "\n",
    "```python    \n",
    "# TODO: WandB Image\n",
    "wandb.log({\"sample_\" + str(idx): [wandb.Image(sample, caption=str(target))]})\n",
    "```\n",
    "\n",
    "</details>"
   ]
  },
  {
   "cell_type": "code",
   "execution_count": null,
   "metadata": {},
   "outputs": [],
   "source": [
    "idx = 15\n",
    "sample = np.array(mnist[0][0])\n",
    "target = np.array(mnist[0][1])\n",
    "plt.imshow(sample)\n",
    "plt.show()\n",
    "\n",
    "# TODO: WandB Image\n"
   ]
  },
  {
   "cell_type": "markdown",
   "metadata": {},
   "source": [
    "<details>\n",
    "  <summary> <strong> Correct answer: </strong> </summary>\n",
    "\n",
    "```python\n",
    "# TODO: WandB Segmentation Mask\n",
    "mask_img = wandb.Image(sample[0], masks={\n",
    "  \"predictions\": {\n",
    "    \"mask_data\": prediction,\n",
    "    \"class_labels\": class_labels,\n",
    "  },\n",
    "  \"ground_truth\": {\n",
    "    \"mask_data\": ground_truth,\n",
    "    \"class_labels\": class_labels\n",
    "  },\n",
    "})\n",
    "\n",
    "```\n",
    "</details>"
   ]
  },
  {
   "cell_type": "code",
   "execution_count": null,
   "metadata": {},
   "outputs": [],
   "source": [
    "idx = 20\n",
    "sample = np.array(mnist[idx][0])\n",
    "\n",
    "class_labels = {\n",
    "  0: \"background\",\n",
    "  1: \"number\",\n",
    "}\n",
    "\n",
    "prediction = np.array(sample>200, dtype=np.int)\n",
    "ground_truth = np.array(sample>100, dtype=np.int)\n",
    "\n",
    "# TODO: WandB Segmentation Mask\n",
    "mask_img = None\n",
    "\n",
    "wandb.log({\"name\": mask_img})"
   ]
  },
  {
   "cell_type": "markdown",
   "metadata": {},
   "source": [
    "\n",
    "<details>\n",
    "  <summary> <strong> Correct answer: </strong> </summary>\n",
    "\n",
    "```python\n",
    "# TODO: WandB Text Table #1\n",
    "wandb.log({\"examples\": wandb.Table(data=data, columns=[\"Text\", \"Predicted Label\", \"True Label\"])})\n",
    "\n",
    "\n",
    "# TODO: WandB Text Table #2\n",
    "table = wandb.Table(columns=[\"Text\", \"Predicted Label\", \"True Label\"])\n",
    "table.add_data(\"I love my phone\", \"1\", \"1\")\n",
    "table.add_data(\"My phone is terrible\", \"0\", \"-1\")\n",
    "wandb.log({\"examples\": table})\n",
    "```\n",
    "</details>"
   ]
  },
  {
   "cell_type": "code",
   "execution_count": null,
   "metadata": {},
   "outputs": [],
   "source": [
    "data = [[\"I love my phone\", \"1\", \"1\"],[\"My phone is terrible\", \"+ášľť0\", \"-1\"]]\n",
    "# TODO: WandB Text Table #1\n",
    "\n",
    "\n",
    "# TODO: WandB Text Table #2\n"
   ]
  },
  {
   "cell_type": "markdown",
   "metadata": {},
   "source": [
    "##### wandb.log() - https://docs.wandb.ai/library/log"
   ]
  },
  {
   "cell_type": "code",
   "execution_count": null,
   "metadata": {},
   "outputs": [],
   "source": [
    "run.finish()"
   ]
  },
  {
   "cell_type": "markdown",
   "metadata": {},
   "source": [
    "### WandB docs: https://docs.wandb.ai"
   ]
  }
 ],
 "metadata": {
  "kernelspec": {
   "display_name": "wandb-env",
   "language": "python",
   "name": "wandb-env"
  },
  "language_info": {
   "codemirror_mode": {
    "name": "ipython",
    "version": 3
   },
   "file_extension": ".py",
   "mimetype": "text/x-python",
   "name": "python",
   "nbconvert_exporter": "python",
   "pygments_lexer": "ipython3",
   "version": "3.8.6"
  }
 },
 "nbformat": 4,
 "nbformat_minor": 4
}
